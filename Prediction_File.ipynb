{
 "cells": [
  {
   "cell_type": "code",
   "execution_count": 1,
   "id": "8b431a42",
   "metadata": {
    "execution": {
     "iopub.execute_input": "2023-04-22T10:43:14.187446Z",
     "iopub.status.busy": "2023-04-22T10:43:14.187044Z",
     "iopub.status.idle": "2023-04-22T10:43:26.147274Z",
     "shell.execute_reply": "2023-04-22T10:43:26.146160Z"
    },
    "papermill": {
     "duration": 11.96996,
     "end_time": "2023-04-22T10:43:26.150200",
     "exception": false,
     "start_time": "2023-04-22T10:43:14.180240",
     "status": "completed"
    },
    "tags": []
   },
   "outputs": [
    {
     "name": "stdout",
     "output_type": "stream",
     "text": [
      "Requirement already satisfied: transformers in /opt/conda/lib/python3.7/site-packages (4.27.4)\r\n",
      "Requirement already satisfied: filelock in /opt/conda/lib/python3.7/site-packages (from transformers) (3.9.0)\r\n",
      "Requirement already satisfied: importlib-metadata in /opt/conda/lib/python3.7/site-packages (from transformers) (4.11.4)\r\n",
      "Requirement already satisfied: tqdm>=4.27 in /opt/conda/lib/python3.7/site-packages (from transformers) (4.64.1)\r\n",
      "Requirement already satisfied: regex!=2019.12.17 in /opt/conda/lib/python3.7/site-packages (from transformers) (2021.11.10)\r\n",
      "Requirement already satisfied: pyyaml>=5.1 in /opt/conda/lib/python3.7/site-packages (from transformers) (6.0)\r\n",
      "Requirement already satisfied: requests in /opt/conda/lib/python3.7/site-packages (from transformers) (2.28.2)\r\n",
      "Requirement already satisfied: tokenizers!=0.11.3,<0.14,>=0.11.1 in /opt/conda/lib/python3.7/site-packages (from transformers) (0.13.2)\r\n",
      "Requirement already satisfied: packaging>=20.0 in /opt/conda/lib/python3.7/site-packages (from transformers) (23.0)\r\n",
      "Requirement already satisfied: numpy>=1.17 in /opt/conda/lib/python3.7/site-packages (from transformers) (1.21.6)\r\n",
      "Requirement already satisfied: huggingface-hub<1.0,>=0.11.0 in /opt/conda/lib/python3.7/site-packages (from transformers) (0.13.3)\r\n",
      "Requirement already satisfied: typing-extensions>=3.7.4.3 in /opt/conda/lib/python3.7/site-packages (from huggingface-hub<1.0,>=0.11.0->transformers) (4.4.0)\r\n",
      "Requirement already satisfied: zipp>=0.5 in /opt/conda/lib/python3.7/site-packages (from importlib-metadata->transformers) (3.11.0)\r\n",
      "Requirement already satisfied: idna<4,>=2.5 in /opt/conda/lib/python3.7/site-packages (from requests->transformers) (3.4)\r\n",
      "Requirement already satisfied: certifi>=2017.4.17 in /opt/conda/lib/python3.7/site-packages (from requests->transformers) (2022.12.7)\r\n",
      "Requirement already satisfied: charset-normalizer<4,>=2 in /opt/conda/lib/python3.7/site-packages (from requests->transformers) (2.1.1)\r\n",
      "Requirement already satisfied: urllib3<1.27,>=1.21.1 in /opt/conda/lib/python3.7/site-packages (from requests->transformers) (1.26.14)\r\n",
      "\u001b[33mWARNING: Running pip as the 'root' user can result in broken permissions and conflicting behaviour with the system package manager. It is recommended to use a virtual environment instead: https://pip.pypa.io/warnings/venv\u001b[0m\u001b[33m\r\n",
      "\u001b[0m"
     ]
    }
   ],
   "source": [
    "!pip install transformers"
   ]
  },
  {
   "cell_type": "code",
   "execution_count": 2,
   "id": "70aaad0d",
   "metadata": {
    "execution": {
     "iopub.execute_input": "2023-04-22T10:43:26.161241Z",
     "iopub.status.busy": "2023-04-22T10:43:26.160553Z",
     "iopub.status.idle": "2023-04-22T10:43:31.087327Z",
     "shell.execute_reply": "2023-04-22T10:43:31.086021Z"
    },
    "papermill": {
     "duration": 4.935412,
     "end_time": "2023-04-22T10:43:31.090104",
     "exception": false,
     "start_time": "2023-04-22T10:43:26.154692",
     "status": "completed"
    },
    "tags": []
   },
   "outputs": [],
   "source": [
    "from sklearn.ensemble import GradientBoostingRegressor\n",
    "import transformers\n",
    "import torch\n",
    "import numpy as np\n",
    "import pandas as pd\n",
    "from sklearn.feature_extraction.text import CountVectorizer, TfidfVectorizer\n",
    "from sklearn.svm import LinearSVR\n",
    "from sklearn.pipeline import Pipeline\n",
    "from sklearn.model_selection import train_test_split\n",
    "from sklearn.metrics import mean_squared_error, r2_score"
   ]
  },
  {
   "cell_type": "code",
   "execution_count": 3,
   "id": "5eb10e6c",
   "metadata": {
    "execution": {
     "iopub.execute_input": "2023-04-22T10:43:31.100808Z",
     "iopub.status.busy": "2023-04-22T10:43:31.100102Z",
     "iopub.status.idle": "2023-04-22T10:44:31.827011Z",
     "shell.execute_reply": "2023-04-22T10:44:31.825928Z"
    },
    "papermill": {
     "duration": 60.735424,
     "end_time": "2023-04-22T10:44:31.829935",
     "exception": false,
     "start_time": "2023-04-22T10:43:31.094511",
     "status": "completed"
    },
    "tags": []
   },
   "outputs": [],
   "source": [
    "train_data = pd.read_csv('/kaggle/input/amazon-ml/dataset/train.csv')\n",
    "test_data = pd.read_csv('/kaggle/input/amazon-ml/dataset/test.csv')"
   ]
  },
  {
   "cell_type": "code",
   "execution_count": 4,
   "id": "fbcafe2d",
   "metadata": {
    "execution": {
     "iopub.execute_input": "2023-04-22T10:44:31.840793Z",
     "iopub.status.busy": "2023-04-22T10:44:31.840025Z",
     "iopub.status.idle": "2023-04-22T10:44:31.877007Z",
     "shell.execute_reply": "2023-04-22T10:44:31.875806Z"
    },
    "papermill": {
     "duration": 0.045331,
     "end_time": "2023-04-22T10:44:31.879610",
     "exception": false,
     "start_time": "2023-04-22T10:44:31.834279",
     "status": "completed"
    },
    "tags": []
   },
   "outputs": [
    {
     "data": {
      "text/html": [
       "<div>\n",
       "<style scoped>\n",
       "    .dataframe tbody tr th:only-of-type {\n",
       "        vertical-align: middle;\n",
       "    }\n",
       "\n",
       "    .dataframe tbody tr th {\n",
       "        vertical-align: top;\n",
       "    }\n",
       "\n",
       "    .dataframe thead th {\n",
       "        text-align: right;\n",
       "    }\n",
       "</style>\n",
       "<table border=\"1\" class=\"dataframe\">\n",
       "  <thead>\n",
       "    <tr style=\"text-align: right;\">\n",
       "      <th></th>\n",
       "      <th>PRODUCT_ID</th>\n",
       "      <th>TITLE</th>\n",
       "      <th>BULLET_POINTS</th>\n",
       "      <th>DESCRIPTION</th>\n",
       "      <th>PRODUCT_TYPE_ID</th>\n",
       "      <th>PRODUCT_LENGTH</th>\n",
       "    </tr>\n",
       "  </thead>\n",
       "  <tbody>\n",
       "    <tr>\n",
       "      <th>0</th>\n",
       "      <td>1925202</td>\n",
       "      <td>ArtzFolio Tulip Flowers Blackout Curtain for D...</td>\n",
       "      <td>[LUXURIOUS &amp; APPEALING: Beautiful custom-made ...</td>\n",
       "      <td>NaN</td>\n",
       "      <td>1650</td>\n",
       "      <td>2125.980000</td>\n",
       "    </tr>\n",
       "    <tr>\n",
       "      <th>1</th>\n",
       "      <td>2673191</td>\n",
       "      <td>Marks &amp; Spencer Girls' Pyjama Sets T86_2561C_N...</td>\n",
       "      <td>[Harry Potter Hedwig Pyjamas (6-16 Yrs),100% c...</td>\n",
       "      <td>NaN</td>\n",
       "      <td>2755</td>\n",
       "      <td>393.700000</td>\n",
       "    </tr>\n",
       "    <tr>\n",
       "      <th>2</th>\n",
       "      <td>2765088</td>\n",
       "      <td>PRIKNIK Horn Red Electric Air Horn Compressor ...</td>\n",
       "      <td>[Loud Dual Tone Trumpet Horn, Compatible With ...</td>\n",
       "      <td>Specifications: Color: Red, Material: Aluminiu...</td>\n",
       "      <td>7537</td>\n",
       "      <td>748.031495</td>\n",
       "    </tr>\n",
       "    <tr>\n",
       "      <th>3</th>\n",
       "      <td>1594019</td>\n",
       "      <td>ALISHAH Women's Cotton Ankle Length Leggings C...</td>\n",
       "      <td>[Made By 95%cotton and 5% Lycra which gives yo...</td>\n",
       "      <td>AISHAH Women's Lycra Cotton Ankel Leggings. Br...</td>\n",
       "      <td>2996</td>\n",
       "      <td>787.401574</td>\n",
       "    </tr>\n",
       "    <tr>\n",
       "      <th>4</th>\n",
       "      <td>283658</td>\n",
       "      <td>The United Empire Loyalists: A Chronicle of th...</td>\n",
       "      <td>NaN</td>\n",
       "      <td>NaN</td>\n",
       "      <td>6112</td>\n",
       "      <td>598.424000</td>\n",
       "    </tr>\n",
       "    <tr>\n",
       "      <th>...</th>\n",
       "      <td>...</td>\n",
       "      <td>...</td>\n",
       "      <td>...</td>\n",
       "      <td>...</td>\n",
       "      <td>...</td>\n",
       "      <td>...</td>\n",
       "    </tr>\n",
       "    <tr>\n",
       "      <th>2249693</th>\n",
       "      <td>2422167</td>\n",
       "      <td>Nike Women's As W Ny Df Swsh Hn Kh Bra (CZ7610...</td>\n",
       "      <td>Material : Polyester</td>\n",
       "      <td>NaN</td>\n",
       "      <td>3009</td>\n",
       "      <td>1181.100000</td>\n",
       "    </tr>\n",
       "    <tr>\n",
       "      <th>2249694</th>\n",
       "      <td>2766635</td>\n",
       "      <td>(3PCS) Goose Game Cute Cartoon Enamel Pins, Fu...</td>\n",
       "      <td>[❤ [Inspiration] Inspired by the Untitled Goos...</td>\n",
       "      <td>&lt;p&gt;&lt;b&gt;[Brand]: &lt;/b&gt;XVIEONR&lt;/p&gt; &lt;p&gt;&lt;br&gt;&lt;/p&gt; &lt;p&gt;...</td>\n",
       "      <td>3413</td>\n",
       "      <td>125.984252</td>\n",
       "    </tr>\n",
       "    <tr>\n",
       "      <th>2249695</th>\n",
       "      <td>1987786</td>\n",
       "      <td>Kangroo Sweep Movement Printed Wooden Wall Clo...</td>\n",
       "      <td>[Dial size: 12 inches in diameter,Big, clear r...</td>\n",
       "      <td>Wall Clocks Are Very Attractive In Looks And E...</td>\n",
       "      <td>1574</td>\n",
       "      <td>1200.000000</td>\n",
       "    </tr>\n",
       "    <tr>\n",
       "      <th>2249696</th>\n",
       "      <td>1165754</td>\n",
       "      <td>Electro Voice EKX-BRKT15 | Wall Mount Bracket ...</td>\n",
       "      <td>NaN</td>\n",
       "      <td>NaN</td>\n",
       "      <td>592</td>\n",
       "      <td>2900.000000</td>\n",
       "    </tr>\n",
       "    <tr>\n",
       "      <th>2249697</th>\n",
       "      <td>1072666</td>\n",
       "      <td>Skyjacker C7360SP Component Box For PN[C7360PK...</td>\n",
       "      <td>[Component Box For PN[C7360PK],4 in. Lift,Incl...</td>\n",
       "      <td>Skyjacker C7360SP Component Box For PN[C7360PK...</td>\n",
       "      <td>7367</td>\n",
       "      <td>2000.000000</td>\n",
       "    </tr>\n",
       "  </tbody>\n",
       "</table>\n",
       "<p>2249698 rows × 6 columns</p>\n",
       "</div>"
      ],
      "text/plain": [
       "         PRODUCT_ID                                              TITLE  \\\n",
       "0           1925202  ArtzFolio Tulip Flowers Blackout Curtain for D...   \n",
       "1           2673191  Marks & Spencer Girls' Pyjama Sets T86_2561C_N...   \n",
       "2           2765088  PRIKNIK Horn Red Electric Air Horn Compressor ...   \n",
       "3           1594019  ALISHAH Women's Cotton Ankle Length Leggings C...   \n",
       "4            283658  The United Empire Loyalists: A Chronicle of th...   \n",
       "...             ...                                                ...   \n",
       "2249693     2422167  Nike Women's As W Ny Df Swsh Hn Kh Bra (CZ7610...   \n",
       "2249694     2766635  (3PCS) Goose Game Cute Cartoon Enamel Pins, Fu...   \n",
       "2249695     1987786  Kangroo Sweep Movement Printed Wooden Wall Clo...   \n",
       "2249696     1165754  Electro Voice EKX-BRKT15 | Wall Mount Bracket ...   \n",
       "2249697     1072666  Skyjacker C7360SP Component Box For PN[C7360PK...   \n",
       "\n",
       "                                             BULLET_POINTS  \\\n",
       "0        [LUXURIOUS & APPEALING: Beautiful custom-made ...   \n",
       "1        [Harry Potter Hedwig Pyjamas (6-16 Yrs),100% c...   \n",
       "2        [Loud Dual Tone Trumpet Horn, Compatible With ...   \n",
       "3        [Made By 95%cotton and 5% Lycra which gives yo...   \n",
       "4                                                      NaN   \n",
       "...                                                    ...   \n",
       "2249693                               Material : Polyester   \n",
       "2249694  [❤ [Inspiration] Inspired by the Untitled Goos...   \n",
       "2249695  [Dial size: 12 inches in diameter,Big, clear r...   \n",
       "2249696                                                NaN   \n",
       "2249697  [Component Box For PN[C7360PK],4 in. Lift,Incl...   \n",
       "\n",
       "                                               DESCRIPTION  PRODUCT_TYPE_ID  \\\n",
       "0                                                      NaN             1650   \n",
       "1                                                      NaN             2755   \n",
       "2        Specifications: Color: Red, Material: Aluminiu...             7537   \n",
       "3        AISHAH Women's Lycra Cotton Ankel Leggings. Br...             2996   \n",
       "4                                                      NaN             6112   \n",
       "...                                                    ...              ...   \n",
       "2249693                                                NaN             3009   \n",
       "2249694  <p><b>[Brand]: </b>XVIEONR</p> <p><br></p> <p>...             3413   \n",
       "2249695  Wall Clocks Are Very Attractive In Looks And E...             1574   \n",
       "2249696                                                NaN              592   \n",
       "2249697  Skyjacker C7360SP Component Box For PN[C7360PK...             7367   \n",
       "\n",
       "         PRODUCT_LENGTH  \n",
       "0           2125.980000  \n",
       "1            393.700000  \n",
       "2            748.031495  \n",
       "3            787.401574  \n",
       "4            598.424000  \n",
       "...                 ...  \n",
       "2249693     1181.100000  \n",
       "2249694      125.984252  \n",
       "2249695     1200.000000  \n",
       "2249696     2900.000000  \n",
       "2249697     2000.000000  \n",
       "\n",
       "[2249698 rows x 6 columns]"
      ]
     },
     "execution_count": 4,
     "metadata": {},
     "output_type": "execute_result"
    }
   ],
   "source": [
    "train_data"
   ]
  },
  {
   "cell_type": "code",
   "execution_count": 5,
   "id": "e07916d7",
   "metadata": {
    "execution": {
     "iopub.execute_input": "2023-04-22T10:44:31.890798Z",
     "iopub.status.busy": "2023-04-22T10:44:31.890379Z",
     "iopub.status.idle": "2023-04-22T10:44:31.909826Z",
     "shell.execute_reply": "2023-04-22T10:44:31.908857Z"
    },
    "papermill": {
     "duration": 0.027861,
     "end_time": "2023-04-22T10:44:31.912294",
     "exception": false,
     "start_time": "2023-04-22T10:44:31.884433",
     "status": "completed"
    },
    "tags": []
   },
   "outputs": [],
   "source": [
    "train_data = train_data.sample(n=20000, random_state=123, replace = True)"
   ]
  },
  {
   "cell_type": "code",
   "execution_count": 6,
   "id": "5ba92e20",
   "metadata": {
    "execution": {
     "iopub.execute_input": "2023-04-22T10:44:31.923271Z",
     "iopub.status.busy": "2023-04-22T10:44:31.922566Z",
     "iopub.status.idle": "2023-04-22T10:44:32.099867Z",
     "shell.execute_reply": "2023-04-22T10:44:32.098674Z"
    },
    "papermill": {
     "duration": 0.185652,
     "end_time": "2023-04-22T10:44:32.102597",
     "exception": false,
     "start_time": "2023-04-22T10:44:31.916945",
     "status": "completed"
    },
    "tags": []
   },
   "outputs": [],
   "source": [
    "train_data = train_data[train_data['PRODUCT_LENGTH'] >= 0]\n",
    "train_data['PRODUCT_LENGTH'] = np.log1p(train_data['PRODUCT_LENGTH'])"
   ]
  },
  {
   "cell_type": "code",
   "execution_count": 7,
   "id": "23a4da5a",
   "metadata": {
    "execution": {
     "iopub.execute_input": "2023-04-22T10:44:32.113692Z",
     "iopub.status.busy": "2023-04-22T10:44:32.113282Z",
     "iopub.status.idle": "2023-04-22T10:44:32.125195Z",
     "shell.execute_reply": "2023-04-22T10:44:32.124283Z"
    },
    "papermill": {
     "duration": 0.020226,
     "end_time": "2023-04-22T10:44:32.127552",
     "exception": false,
     "start_time": "2023-04-22T10:44:32.107326",
     "status": "completed"
    },
    "tags": []
   },
   "outputs": [],
   "source": [
    "train_set, val_set = train_test_split(train_data, test_size=0.2, random_state=123)"
   ]
  },
  {
   "cell_type": "code",
   "execution_count": 8,
   "id": "c4ce5cb9",
   "metadata": {
    "execution": {
     "iopub.execute_input": "2023-04-22T10:44:32.139438Z",
     "iopub.status.busy": "2023-04-22T10:44:32.138327Z",
     "iopub.status.idle": "2023-04-22T10:44:34.216782Z",
     "shell.execute_reply": "2023-04-22T10:44:34.215523Z"
    },
    "papermill": {
     "duration": 2.087572,
     "end_time": "2023-04-22T10:44:34.219789",
     "exception": false,
     "start_time": "2023-04-22T10:44:32.132217",
     "status": "completed"
    },
    "tags": []
   },
   "outputs": [],
   "source": [
    "vectorizer = TfidfVectorizer()\n",
    "train_features = vectorizer.fit_transform(train_set['TITLE'].fillna('') + ' ' + train_set['DESCRIPTION'].fillna('') + ' ' + train_set['BULLET_POINTS'].fillna(''))\n",
    "val_features = vectorizer.transform(val_set['TITLE'].fillna('') + ' ' + val_set['DESCRIPTION'].fillna('') + ' ' + val_set['BULLET_POINTS'].fillna(''))"
   ]
  },
  {
   "cell_type": "code",
   "execution_count": 9,
   "id": "2d03b7e8",
   "metadata": {
    "execution": {
     "iopub.execute_input": "2023-04-22T10:44:34.231415Z",
     "iopub.status.busy": "2023-04-22T10:44:34.230494Z",
     "iopub.status.idle": "2023-04-22T10:44:34.925562Z",
     "shell.execute_reply": "2023-04-22T10:44:34.924325Z"
    },
    "papermill": {
     "duration": 0.703602,
     "end_time": "2023-04-22T10:44:34.928246",
     "exception": false,
     "start_time": "2023-04-22T10:44:34.224644",
     "status": "completed"
    },
    "tags": []
   },
   "outputs": [
    {
     "data": {
      "text/plain": [
       "LinearSVR(max_iter=15000)"
      ]
     },
     "execution_count": 9,
     "metadata": {},
     "output_type": "execute_result"
    }
   ],
   "source": [
    "model = LinearSVR(max_iter=15000)\n",
    "model.fit(train_features, train_set['PRODUCT_LENGTH'].fillna(0))"
   ]
  },
  {
   "cell_type": "code",
   "execution_count": 10,
   "id": "86594bad",
   "metadata": {
    "execution": {
     "iopub.execute_input": "2023-04-22T10:44:34.939834Z",
     "iopub.status.busy": "2023-04-22T10:44:34.939375Z",
     "iopub.status.idle": "2023-04-22T10:44:34.945432Z",
     "shell.execute_reply": "2023-04-22T10:44:34.944433Z"
    },
    "papermill": {
     "duration": 0.014857,
     "end_time": "2023-04-22T10:44:34.947829",
     "exception": false,
     "start_time": "2023-04-22T10:44:34.932972",
     "status": "completed"
    },
    "tags": []
   },
   "outputs": [],
   "source": [
    "val_predictions = model.predict(val_features)"
   ]
  },
  {
   "cell_type": "code",
   "execution_count": 11,
   "id": "3cae274c",
   "metadata": {
    "execution": {
     "iopub.execute_input": "2023-04-22T10:44:34.958903Z",
     "iopub.status.busy": "2023-04-22T10:44:34.958526Z",
     "iopub.status.idle": "2023-04-22T10:44:34.965203Z",
     "shell.execute_reply": "2023-04-22T10:44:34.963963Z"
    },
    "papermill": {
     "duration": 0.015032,
     "end_time": "2023-04-22T10:44:34.967636",
     "exception": false,
     "start_time": "2023-04-22T10:44:34.952604",
     "status": "completed"
    },
    "tags": []
   },
   "outputs": [
    {
     "name": "stdout",
     "output_type": "stream",
     "text": [
      "Mean Squared Error: 0.752955019964365\n"
     ]
    }
   ],
   "source": [
    "mse = mean_squared_error(val_set['PRODUCT_LENGTH'], val_predictions)\n",
    "print(\"Mean Squared Error:\", mse)"
   ]
  },
  {
   "cell_type": "code",
   "execution_count": 12,
   "id": "485ff384",
   "metadata": {
    "execution": {
     "iopub.execute_input": "2023-04-22T10:44:34.979160Z",
     "iopub.status.busy": "2023-04-22T10:44:34.978406Z",
     "iopub.status.idle": "2023-04-22T10:45:50.360886Z",
     "shell.execute_reply": "2023-04-22T10:45:50.359796Z"
    },
    "papermill": {
     "duration": 75.391287,
     "end_time": "2023-04-22T10:45:50.363686",
     "exception": false,
     "start_time": "2023-04-22T10:44:34.972399",
     "status": "completed"
    },
    "tags": []
   },
   "outputs": [],
   "source": [
    "test_features = vectorizer.transform(test_data['TITLE'].fillna('') + ' ' + test_data['DESCRIPTION'].fillna('') + ' ' + test_data['BULLET_POINTS'].fillna(''))\n",
    "test_predictions = model.predict(test_features)\n",
    "submission_df = pd.DataFrame({'PRODUCT_ID': test_data['PRODUCT_ID'], 'PRODUCT_LENGTH': test_predictions})"
   ]
  },
  {
   "cell_type": "code",
   "execution_count": 13,
   "id": "794193d1",
   "metadata": {
    "execution": {
     "iopub.execute_input": "2023-04-22T10:45:50.375380Z",
     "iopub.status.busy": "2023-04-22T10:45:50.374986Z",
     "iopub.status.idle": "2023-04-22T10:45:51.996369Z",
     "shell.execute_reply": "2023-04-22T10:45:51.995184Z"
    },
    "papermill": {
     "duration": 1.630047,
     "end_time": "2023-04-22T10:45:51.999149",
     "exception": false,
     "start_time": "2023-04-22T10:45:50.369102",
     "status": "completed"
    },
    "tags": []
   },
   "outputs": [],
   "source": [
    "submission_df.to_csv(\"submission3.csv\", index=False)"
   ]
  }
 ],
 "metadata": {
  "kernelspec": {
   "display_name": "Python 3",
   "language": "python",
   "name": "python3"
  },
  "language_info": {
   "codemirror_mode": {
    "name": "ipython",
    "version": 3
   },
   "file_extension": ".py",
   "mimetype": "text/x-python",
   "name": "python",
   "nbconvert_exporter": "python",
   "pygments_lexer": "ipython3",
   "version": "3.7.12"
  },
  "papermill": {
   "default_parameters": {},
   "duration": 169.658987,
   "end_time": "2023-04-22T10:45:53.831041",
   "environment_variables": {},
   "exception": null,
   "input_path": "__notebook__.ipynb",
   "output_path": "__notebook__.ipynb",
   "parameters": {},
   "start_time": "2023-04-22T10:43:04.172054",
   "version": "2.4.0"
  }
 },
 "nbformat": 4,
 "nbformat_minor": 5
}
